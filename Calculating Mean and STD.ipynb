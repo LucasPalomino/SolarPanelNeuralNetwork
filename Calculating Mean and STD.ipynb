{
 "cells": [
  {
   "cell_type": "code",
   "execution_count": 19,
   "id": "d5c83e0c-7641-4112-9a03-1c8222054690",
   "metadata": {},
   "outputs": [],
   "source": [
    "import os\n",
    "import torch\n",
    "import torchvision\n",
    "import torchvision.transforms as transforms"
   ]
  },
  {
   "cell_type": "code",
   "execution_count": 20,
   "id": "ad43dabb-9b46-4a27-bc7b-3f01fe41a7a4",
   "metadata": {},
   "outputs": [
    {
     "data": {
      "text/plain": [
       "['Bird-drop',\n",
       " 'Clean',\n",
       " 'Dusty',\n",
       " 'Electrical-damage',\n",
       " 'Physical-damage',\n",
       " 'Snow-covered']"
      ]
     },
     "execution_count": 20,
     "metadata": {},
     "output_type": "execute_result"
    }
   ],
   "source": [
    "os.listdir('./Training Set')"
   ]
  },
  {
   "cell_type": "code",
   "execution_count": 21,
   "id": "f34cb5fb-330a-4f8e-bf58-cd96fc68efa9",
   "metadata": {},
   "outputs": [],
   "source": [
    "training_dataset_path = './Training Set' "
   ]
  },
  {
   "cell_type": "code",
   "execution_count": 22,
   "id": "a465503f-d958-45b2-9896-625f720dcdf6",
   "metadata": {},
   "outputs": [],
   "source": [
    "training_transforms = transforms.Compose([transforms.Resize((224,224)), transforms.ToTensor()])"
   ]
  },
  {
   "cell_type": "code",
   "execution_count": 23,
   "id": "a010477f-c66e-420e-afad-c3df9d9de87d",
   "metadata": {},
   "outputs": [],
   "source": [
    "training_dataset = torchvision.datasets.ImageFolder(root = training_dataset_path, transform = training_transforms)"
   ]
  },
  {
   "cell_type": "code",
   "execution_count": 24,
   "id": "768793d2-699f-4c9b-ad8a-69ce74abaabd",
   "metadata": {},
   "outputs": [],
   "source": [
    "training_loader = torch.utils.data.DataLoader(dataset = training_dataset, batch_size = 32, shuffle = False)"
   ]
  },
  {
   "cell_type": "code",
   "execution_count": 27,
   "id": "5d0f94c6-6220-479e-8098-6f74079a522b",
   "metadata": {},
   "outputs": [],
   "source": [
    "def calculate_mean_and_std(loader):\n",
    "    mean = 0.0\n",
    "    std = 0.0\n",
    "    total_images_count = 0\n",
    "    for images, _ in loader:   # _ is a placeholder convention used to indicate that a second variable exists but is not used in the loop\n",
    "        image_count_per_batch = images.size(0)   # Stores number of images in a batch\n",
    "        images = images.view(image_count_per_batch, images.size(1), -1) # Reshapes tensor to flatten images (height x width)\n",
    "        mean += images.mean(2).sum(0) # Calculates mean of the third axis (flattened dimensions) and adds the result of each image together\n",
    "        std += images.std(2).sum(0) # Calculates std of the third axis (flattened dimensions) and adds the result of each image together\n",
    "        total_images_count += image_count_per_batch # Increments count of images\n",
    "\n",
    "    mean /= total_images_count # Divides cumulative mean / number of images\n",
    "    std /= total_images_count # Divides cumulative std / number of images\n",
    "\n",
    "    return mean, std \n",
    "        "
   ]
  },
  {
   "cell_type": "code",
   "execution_count": 28,
   "id": "b4274c7d-91ec-444f-b394-0de02c3c8964",
   "metadata": {},
   "outputs": [
    {
     "data": {
      "text/plain": [
       "(tensor([0.4243, 0.4522, 0.5050]), tensor([0.2150, 0.2035, 0.1913]))"
      ]
     },
     "execution_count": 28,
     "metadata": {},
     "output_type": "execute_result"
    }
   ],
   "source": [
    "calculate_mean_and_std(training_loader)"
   ]
  },
  {
   "cell_type": "code",
   "execution_count": null,
   "id": "6e276903-ec0a-4fa8-824d-e67ff0909fd2",
   "metadata": {},
   "outputs": [],
   "source": []
  }
 ],
 "metadata": {
  "kernelspec": {
   "display_name": "Python 3 (ipykernel)",
   "language": "python",
   "name": "python3"
  },
  "language_info": {
   "codemirror_mode": {
    "name": "ipython",
    "version": 3
   },
   "file_extension": ".py",
   "mimetype": "text/x-python",
   "name": "python",
   "nbconvert_exporter": "python",
   "pygments_lexer": "ipython3",
   "version": "3.10.13"
  }
 },
 "nbformat": 4,
 "nbformat_minor": 5
}
