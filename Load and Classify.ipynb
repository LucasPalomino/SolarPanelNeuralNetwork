{
 "cells": [
  {
   "cell_type": "code",
   "execution_count": 1,
   "id": "8c769371-1525-4682-b227-e32c63a9ac97",
   "metadata": {},
   "outputs": [],
   "source": [
    "import torch\n",
    "import torchvision\n",
    "import torchvision.transforms as transforms\n",
    "import PIL.Image as Image\n",
    "import os"
   ]
  },
  {
   "cell_type": "code",
   "execution_count": 2,
   "id": "f137c88b-8e1f-47bb-af34-6566650a475e",
   "metadata": {},
   "outputs": [],
   "source": [
    "classes = [\n",
    "    'Bird Drop',\n",
    "    'Clean',\n",
    "    'Dusty',\n",
    "    'Electrical Damage',\n",
    "    'Physical Damage',\n",
    "    'Snow-covered'\n",
    "]"
   ]
  },
  {
   "cell_type": "code",
   "execution_count": 3,
   "id": "2f3a0d32-56b6-4682-a19a-19c4c6eca14f",
   "metadata": {},
   "outputs": [],
   "source": [
    "model = torch.load('Best-Model.pth')"
   ]
  },
  {
   "cell_type": "code",
   "execution_count": 4,
   "id": "ee118e27-5a91-4511-8a53-d631b9ce01aa",
   "metadata": {},
   "outputs": [],
   "source": [
    "mean = [0.4243, 0.4522, 0.5050]\n",
    "std = [0.2150, 0.2035, 0.1913]\n",
    "\n",
    "image_transforms = transforms.Compose([\n",
    "    transforms.Resize((224,224)),\n",
    "    transforms.ToTensor(),\n",
    "    transforms.Normalize(torch.Tensor(mean), torch.Tensor(std))\n",
    "])"
   ]
  },
  {
   "cell_type": "code",
   "execution_count": 5,
   "id": "2422023a-06d7-4152-a4f6-dc8270e8ddb5",
   "metadata": {},
   "outputs": [],
   "source": [
    "def classify_single_image(model, image_transforms, image_path, classes):\n",
    "    model = model.eval()\n",
    "    image = Image.open(image_path)\n",
    "    image = image_transforms(image).float()\n",
    "    image = image.unsqueeze(0)\n",
    "\n",
    "    output = model(image)\n",
    "    _, prediction = torch.max(output.data, 1)\n",
    "\n",
    "    print(classes[prediction.item()])"
   ]
  },
  {
   "cell_type": "code",
   "execution_count": 6,
   "id": "c2c3059c-13c9-4e1e-8353-e182a87283d8",
   "metadata": {},
   "outputs": [
    {
     "name": "stdout",
     "output_type": "stream",
     "text": [
      "Clean\n"
     ]
    }
   ],
   "source": [
    "classify_single_image(model, image_transforms,'./Single Images/Clean.jpg', classes)"
   ]
  },
  {
   "cell_type": "code",
   "execution_count": 7,
   "id": "cf421967-317b-44a7-bed1-c71422782dec",
   "metadata": {},
   "outputs": [
    {
     "name": "stdout",
     "output_type": "stream",
     "text": [
      "Bird Drop\n"
     ]
    }
   ],
   "source": [
    "classify_single_image(model, image_transforms,'./Single Images/Damaged.jpg', classes)"
   ]
  },
  {
   "cell_type": "code",
   "execution_count": 8,
   "id": "55a2ff6a-d460-4097-b503-3f82170fd57a",
   "metadata": {
    "scrolled": true
   },
   "outputs": [
    {
     "name": "stdout",
     "output_type": "stream",
     "text": [
      "Dusty\n"
     ]
    }
   ],
   "source": [
    "classify_single_image(model, image_transforms,'./Single Images/Dusty.png', classes)"
   ]
  },
  {
   "cell_type": "code",
   "execution_count": null,
   "id": "a1d15ee9-6261-4e6f-9d99-c1df4c2e6ebe",
   "metadata": {},
   "outputs": [],
   "source": []
  }
 ],
 "metadata": {
  "kernelspec": {
   "display_name": "Python 3 (ipykernel)",
   "language": "python",
   "name": "python3"
  },
  "language_info": {
   "codemirror_mode": {
    "name": "ipython",
    "version": 3
   },
   "file_extension": ".py",
   "mimetype": "text/x-python",
   "name": "python",
   "nbconvert_exporter": "python",
   "pygments_lexer": "ipython3",
   "version": "3.10.13"
  }
 },
 "nbformat": 4,
 "nbformat_minor": 5
}
